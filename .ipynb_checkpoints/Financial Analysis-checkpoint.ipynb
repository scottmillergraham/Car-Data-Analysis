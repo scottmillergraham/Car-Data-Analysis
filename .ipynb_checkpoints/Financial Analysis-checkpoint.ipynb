{
 "cells": [
  {
   "cell_type": "code",
   "execution_count": 49,
   "metadata": {
    "collapsed": true
   },
   "outputs": [],
   "source": [
    "import csv\n",
    "from datetime import datetime"
   ]
  },
  {
   "cell_type": "code",
   "execution_count": 28,
   "metadata": {},
   "outputs": [],
   "source": [
    "#read csv files\n",
    "\n",
    "with open('Fill-Ups.csv') as Fill, open('Expenses.csv') as Exp, open('Services.csv') as Serv:\n",
    "    fillReader = csv.reader(Fill)\n",
    "    fillList = []\n",
    "    for row in fillReader:\n",
    "        fillList.append(row)\n",
    "    \n",
    "    expReader = csv.reader(Exp)\n",
    "    expList = []\n",
    "    for row in expReader:\n",
    "        expList.append(row)\n",
    "    \n",
    "    servReader = csv.reader(Serv)\n",
    "    servList = []\n",
    "    for row in servReader:\n",
    "        servList.append(row)"
   ]
  },
  {
   "cell_type": "code",
   "execution_count": 29,
   "metadata": {
    "collapsed": true
   },
   "outputs": [],
   "source": [
    "#function to check if a field is a number.\n",
    "def is_number(s):\n",
    "    try:\n",
    "        float(s)\n",
    "        return True\n",
    "    except ValueError:\n",
    "        return False"
   ]
  },
  {
   "cell_type": "code",
   "execution_count": 65,
   "metadata": {},
   "outputs": [],
   "source": [
    "#Compile all transactions into one list of dictionaries.\n",
    "\n",
    "allTransactions = []\n",
    "\n",
    "i = 0\n",
    "for fillUp in fillList:\n",
    "    transaction = {}\n",
    "    if i != 0:\n",
    "        transaction['Type'] = 'Fill-Up'\n",
    "        transaction['Date'] = datetime.strptime(fillUp[0],'%d/%b/%Y')\n",
    "        transaction['Odometer'] = float(fillUp[1])\n",
    "        transaction['Quantity'] = float(fillUp[2])\n",
    "        transaction['Distance'] = float(fillUp[3])\n",
    "        transaction['Total Cost'] = float(fillUp[4])\n",
    "        if fillUp[5] == 'null':\n",
    "            transaction['Consumption'] = 0\n",
    "        else:\n",
    "            transaction['Consumption'] = float(fillUp[5])\n",
    "        allTransactions.append(transaction)\n",
    "        transaction['Partial Tank'] = not (float(fillUp[6]) == 0)\n",
    "        transaction['Octane'] = fillUp[7]\n",
    "        transaction['Fuel Brand'] = fillUp[8]\n",
    "        transaction['Filling Station'] = fillUp[9]\n",
    "        transaction['Notes'] = fillUp[10]\n",
    "    i += 1\n",
    "    \n",
    "    \n",
    "    \n",
    "    \n",
    "i = 0\n",
    "for service in servList:\n",
    "    if i != 0:\n",
    "        transaction = {}\n",
    "        transaction['Type'] = 'Service'\n",
    "        transaction['Date'] = datetime.strptime(service[0],'%d-%b-%y')\n",
    "        transaction['Odometer'] = float(service[1])\n",
    "        transaction['Services'] = []\n",
    "        \n",
    "        j=2\n",
    "        while not is_number(service[j]):\n",
    "            transaction['Services'].append(service[j])\n",
    "            j +=1\n",
    "        \n",
    "        transaction['Cost'] = float(service[j])\n",
    "        transaction['Service Center'] = service[j+1]\n",
    "        transaction['Notes'] = service[j+2]\n",
    "        \n",
    "    i += 1\n",
    "    allTransactions.append(transaction)\n",
    "\n",
    "    \n",
    "\n",
    "i = 0\n",
    "for expense in expList:\n",
    "    if i !=0:\n",
    "        transaction = {}\n",
    "        transaction['Type'] = 'Expense'\n",
    "        transaction['Date'] = datetime.strptime(expense[0],'%d/%b/%Y')\n",
    "        transaction['Odometer'] = float(expense[1])\n",
    "        transaction['Expenses'] = []\n",
    "        \n",
    "        j=2\n",
    "        while not is_number(service[j]):\n",
    "            transaction['Expenses'].append(expense[j])\n",
    "            j +=1\n",
    "        \n",
    "        transaction['Total Cost'] = float(expense[j])\n",
    "        transaction['Vendor'] = expense[j+1]\n",
    "        transaction['Notes'] = expense[j+2]\n",
    "        \n",
    "        allTransactions.append(transaction)"
   ]
  },
  {
   "cell_type": "code",
   "execution_count": 87,
   "metadata": {},
   "outputs": [],
   "source": [
    "def SumIf(sumList, sumColumn, conditionalList = [{'Column': None, 'Value': None}]):\n",
    "    result = 0\n",
    "    \n",
    "    #http://stackoverflow.com/questions/750298/easy-way-to-check-that-a-variable-is-defined-in-python\n",
    "    try:\n",
    "        print myObject.myVar\n",
    "    except NameError:\n",
    "        print \"not defined\"\n",
    "    \n",
    "    if not isDefined(connditionalList):\n",
    "        for item in sumList:\n",
    "            result += item[sumColumn]\n",
    "    \n",
    "    elif isDefined(conditionalList):\n",
    "        for item in sumList:\n",
    "            sumBool = True\n",
    "            for conditional in conditionalList:\n",
    "                if item[conditional['column']] == conditional['Value']:\n",
    "                    sumBool = False\n",
    "                    break\n",
    "            if sumBool:\n",
    "                result += item['sumColumn']\n",
    "        \n",
    "    return result"
   ]
  },
  {
   "cell_type": "code",
   "execution_count": 81,
   "metadata": {},
   "outputs": [],
   "source": [
    "i = 0\n",
    "myList = []\n",
    "while i < 11:\n",
    "    trans = {}\n",
    "    trans['myCol']=i\n",
    "    i += 1\n",
    "    myList.append(trans)\n",
    "\n",
    "myList[2]['Condition'] = 'a'\n",
    "myList[4]['Condition'] = 'a'\n",
    "myList[7]['Conditional'] = 'a'"
   ]
  },
  {
   "cell_type": "code",
   "execution_count": 88,
   "metadata": {},
   "outputs": [
    {
     "ename": "NameError",
     "evalue": "name 'connditionalList' is not defined",
     "output_type": "error",
     "traceback": [
      "\u001b[1;31m---------------------------------------------------------------------------\u001b[0m",
      "\u001b[1;31mNameError\u001b[0m                                 Traceback (most recent call last)",
      "\u001b[1;32m<ipython-input-88-1c113418cd5f>\u001b[0m in \u001b[0;36m<module>\u001b[1;34m()\u001b[0m\n\u001b[1;32m----> 1\u001b[1;33m \u001b[0mSumIf\u001b[0m\u001b[1;33m(\u001b[0m\u001b[0mmyList\u001b[0m\u001b[1;33m,\u001b[0m\u001b[1;34m'myCol'\u001b[0m\u001b[1;33m)\u001b[0m\u001b[1;33m\u001b[0m\u001b[0m\n\u001b[0m",
      "\u001b[1;32m<ipython-input-87-120e5ce40445>\u001b[0m in \u001b[0;36mSumIf\u001b[1;34m(sumList, sumColumn, conditionalList)\u001b[0m\n\u001b[0;32m      2\u001b[0m     \u001b[0mresult\u001b[0m \u001b[1;33m=\u001b[0m \u001b[1;36m0\u001b[0m\u001b[1;33m\u001b[0m\u001b[0m\n\u001b[0;32m      3\u001b[0m \u001b[1;33m\u001b[0m\u001b[0m\n\u001b[1;32m----> 4\u001b[1;33m     \u001b[1;32mif\u001b[0m \u001b[1;32mnot\u001b[0m \u001b[0misDefined\u001b[0m\u001b[1;33m(\u001b[0m\u001b[0mconnditionalList\u001b[0m\u001b[1;33m)\u001b[0m\u001b[1;33m:\u001b[0m\u001b[1;33m\u001b[0m\u001b[0m\n\u001b[0m\u001b[0;32m      5\u001b[0m         \u001b[1;32mfor\u001b[0m \u001b[0mitem\u001b[0m \u001b[1;32min\u001b[0m \u001b[0msumList\u001b[0m\u001b[1;33m:\u001b[0m\u001b[1;33m\u001b[0m\u001b[0m\n\u001b[0;32m      6\u001b[0m             \u001b[0mresult\u001b[0m \u001b[1;33m+=\u001b[0m \u001b[0mitem\u001b[0m\u001b[1;33m[\u001b[0m\u001b[0msumColumn\u001b[0m\u001b[1;33m]\u001b[0m\u001b[1;33m\u001b[0m\u001b[0m\n",
      "\u001b[1;31mNameError\u001b[0m: name 'connditionalList' is not defined"
     ]
    }
   ],
   "source": [
    "SumIf(myList,'myCol')"
   ]
  },
  {
   "cell_type": "code",
   "execution_count": 89,
   "metadata": {},
   "outputs": [
    {
     "ename": "NameError",
     "evalue": "name 'me' is not defined",
     "output_type": "error",
     "traceback": [
      "\u001b[1;31m---------------------------------------------------------------------------\u001b[0m",
      "\u001b[1;31mNameError\u001b[0m                                 Traceback (most recent call last)",
      "\u001b[1;32m<ipython-input-89-079d0e7f5f6a>\u001b[0m in \u001b[0;36m<module>\u001b[1;34m()\u001b[0m\n\u001b[1;32m----> 1\u001b[1;33m \u001b[0misDefined\u001b[0m\u001b[1;33m(\u001b[0m\u001b[0mme\u001b[0m\u001b[1;33m)\u001b[0m\u001b[1;33m\u001b[0m\u001b[0m\n\u001b[0m",
      "\u001b[1;31mNameError\u001b[0m: name 'me' is not defined"
     ]
    }
   ],
   "source": [
    "isDefined(me)"
   ]
  },
  {
   "cell_type": "code",
   "execution_count": 76,
   "metadata": {},
   "outputs": [
    {
     "name": "stdout",
     "output_type": "stream",
     "text": [
      "[{'Column': None, 'Value': None}]\n"
     ]
    }
   ],
   "source": [
    "conditionalList = [{'Column': None, 'Value': None}]\n",
    "print(conditionalList)"
   ]
  }
 ],
 "metadata": {
  "kernelspec": {
   "display_name": "Python 3",
   "language": "python",
   "name": "python3"
  },
  "language_info": {
   "codemirror_mode": {
    "name": "ipython",
    "version": 3
   },
   "file_extension": ".py",
   "mimetype": "text/x-python",
   "name": "python",
   "nbconvert_exporter": "python",
   "pygments_lexer": "ipython3",
   "version": "3.6.1"
  }
 },
 "nbformat": 4,
 "nbformat_minor": 2
}
