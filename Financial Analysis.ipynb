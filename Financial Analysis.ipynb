{
 "cells": [
  {
   "cell_type": "code",
   "execution_count": 49,
   "metadata": {
    "collapsed": true
   },
   "outputs": [],
   "source": [
    "import csv\n",
    "from datetime import datetime"
   ]
  },
  {
   "cell_type": "code",
   "execution_count": 28,
   "metadata": {},
   "outputs": [],
   "source": [
    "#read csv files\n",
    "\n",
    "with open('Fill-Ups.csv') as Fill, open('Expenses.csv') as Exp, open('Services.csv') as Serv:\n",
    "    fillReader = csv.reader(Fill)\n",
    "    fillList = []\n",
    "    for row in fillReader:\n",
    "        fillList.append(row)\n",
    "    \n",
    "    expReader = csv.reader(Exp)\n",
    "    expList = []\n",
    "    for row in expReader:\n",
    "        expList.append(row)\n",
    "    \n",
    "    servReader = csv.reader(Serv)\n",
    "    servList = []\n",
    "    for row in servReader:\n",
    "        servList.append(row)"
   ]
  },
  {
   "cell_type": "code",
   "execution_count": 29,
   "metadata": {
    "collapsed": true
   },
   "outputs": [],
   "source": [
    "#function to check if a field is a number.\n",
    "def is_number(s):\n",
    "    try:\n",
    "        float(s)\n",
    "        return True\n",
    "    except ValueError:\n",
    "        return False"
   ]
  },
  {
   "cell_type": "code",
   "execution_count": 65,
   "metadata": {},
   "outputs": [],
   "source": [
    "#Compile all transactions into one list of dictionaries.\n",
    "\n",
    "allTransactions = []\n",
    "\n",
    "i = 0\n",
    "for fillUp in fillList:\n",
    "    transaction = {}\n",
    "    if i != 0:\n",
    "        transaction['Type'] = 'Fill-Up'\n",
    "        transaction['Date'] = datetime.strptime(fillUp[0],'%d/%b/%Y')\n",
    "        transaction['Odometer'] = float(fillUp[1])\n",
    "        transaction['Quantity'] = float(fillUp[2])\n",
    "        transaction['Distance'] = float(fillUp[3])\n",
    "        transaction['Total Cost'] = float(fillUp[4])\n",
    "        if fillUp[5] == 'null':\n",
    "            transaction['Consumption'] = 0\n",
    "        else:\n",
    "            transaction['Consumption'] = float(fillUp[5])\n",
    "        allTransactions.append(transaction)\n",
    "        transaction['Partial Tank'] = not (float(fillUp[6]) == 0)\n",
    "        transaction['Octane'] = fillUp[7]\n",
    "        transaction['Fuel Brand'] = fillUp[8]\n",
    "        transaction['Filling Station'] = fillUp[9]\n",
    "        transaction['Notes'] = fillUp[10]\n",
    "    i += 1\n",
    "    \n",
    "    \n",
    "    \n",
    "    \n",
    "i = 0\n",
    "for service in servList:\n",
    "    if i != 0:\n",
    "        transaction = {}\n",
    "        transaction['Type'] = 'Service'\n",
    "        transaction['Date'] = datetime.strptime(service[0],'%d-%b-%y')\n",
    "        transaction['Odometer'] = float(service[1])\n",
    "        transaction['Services'] = []\n",
    "        \n",
    "        j=2\n",
    "        while not is_number(service[j]):\n",
    "            transaction['Services'].append(service[j])\n",
    "            j +=1\n",
    "        \n",
    "        transaction['Cost'] = float(service[j])\n",
    "        transaction['Service Center'] = service[j+1]\n",
    "        transaction['Notes'] = service[j+2]\n",
    "        \n",
    "    i += 1\n",
    "    allTransactions.append(transaction)\n",
    "\n",
    "    \n",
    "\n",
    "i = 0\n",
    "for expense in expList:\n",
    "    if i !=0:\n",
    "        transaction = {}\n",
    "        transaction['Type'] = 'Expense'\n",
    "        transaction['Date'] = datetime.strptime(expense[0],'%d/%b/%Y')\n",
    "        transaction['Odometer'] = float(expense[1])\n",
    "        transaction['Expenses'] = []\n",
    "        \n",
    "        j=2\n",
    "        while not is_number(service[j]):\n",
    "            transaction['Expenses'].append(expense[j])\n",
    "            j +=1\n",
    "        \n",
    "        transaction['Total Cost'] = float(expense[j])\n",
    "        transaction['Vendor'] = expense[j+1]\n",
    "        transaction['Notes'] = expense[j+2]\n",
    "        \n",
    "        allTransactions.append(transaction)"
   ]
  }
 ],
 "metadata": {
  "kernelspec": {
   "display_name": "Python 3",
   "language": "python",
   "name": "python3"
  },
  "language_info": {
   "codemirror_mode": {
    "name": "ipython",
    "version": 3
   },
   "file_extension": ".py",
   "mimetype": "text/x-python",
   "name": "python",
   "nbconvert_exporter": "python",
   "pygments_lexer": "ipython3",
   "version": "3.6.1"
  }
 },
 "nbformat": 4,
 "nbformat_minor": 2
}
